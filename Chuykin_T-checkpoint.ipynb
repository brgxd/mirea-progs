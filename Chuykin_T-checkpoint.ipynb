{
 "cells": [
  {
   "cell_type": "code",
   "execution_count": 1,
   "id": "c914db7d",
   "metadata": {
    "scrolled": true
   },
   "outputs": [
    {
     "name": "stdout",
     "output_type": "stream",
     "text": [
      "True type:  <class 'bool'> \n",
      " {8, 1, 3, 7} type:  <class 'set'> \n",
      " {2, 4, 5, 'apple', 10} type:  <class 'set'> \n",
      " set() type:  <class 'set'> \n",
      " ('AA', 34, 'ж') type:  <class 'tuple'> \n",
      " type type:  <class 'str'> \n",
      " [1, 'title', 'content'] type:  <class 'list'> \n",
      "\n"
     ]
    }
   ],
   "source": [
    "x = 5 >= 2\n",
    "A = {1, 3, 7, 8}\n",
    "B = {2, 4, 5, 10, 'apple'}\n",
    "C = A & B\n",
    "df = 'AA', 34, 'ж'\n",
    "z = 'type'\n",
    "D = [1, 'title', 'content']\n",
    "\n",
    "print(x, 'type: ', type(x), '\\n', A, 'type: ', type(A), '\\n', B, 'type: ', type(B), '\\n',C, 'type: ', type(C), \n",
    "'\\n',df, 'type: ', type(df), '\\n',z, 'type: ', type(z), '\\n',D, 'type: ', type(D), '\\n')"
   ]
  },
  {
   "cell_type": "code",
   "execution_count": 8,
   "id": "40326505",
   "metadata": {},
   "outputs": [
    {
     "name": "stdout",
     "output_type": "stream",
     "text": [
      "5\n",
      "[-5,5]\n"
     ]
    }
   ],
   "source": [
    "x = int(input())\n",
    "if x <= 5 and x >= -5:\n",
    "    print('[-5,5]')\n",
    "elif x < -5:\n",
    "    print('[-infinity,-5]')\n",
    "else:\n",
    "    print('[5,infinity]')"
   ]
  },
  {
   "cell_type": "code",
   "execution_count": 10,
   "id": "3ce53a2e",
   "metadata": {},
   "outputs": [
    {
     "name": "stdout",
     "output_type": "stream",
     "text": [
      "10\n",
      "7\n",
      "4\n",
      "1\n"
     ]
    }
   ],
   "source": [
    "i = 10\n",
    "while i >= 1:\n",
    "    print(i)\n",
    "    i -= 3"
   ]
  },
  {
   "cell_type": "code",
   "execution_count": 12,
   "id": "b575a416",
   "metadata": {},
   "outputs": [
    {
     "name": "stdout",
     "output_type": "stream",
     "text": [
      "[2, 3, 4, 5, 6, 7, 8, 9, 10, 11, 12, 13, 14, 15]\n"
     ]
    }
   ],
   "source": [
    "list_333 = range(2,16)\n",
    "print(list(list_333))"
   ]
  },
  {
   "cell_type": "code",
   "execution_count": 18,
   "id": "51e0501a",
   "metadata": {},
   "outputs": [
    {
     "name": "stdout",
     "output_type": "stream",
     "text": [
      "105\n",
      "80\n",
      "55\n",
      "30\n",
      "5\n"
     ]
    }
   ],
   "source": [
    "for i in range(105, -20, -25):\n",
    "    print(i)"
   ]
  },
  {
   "cell_type": "code",
   "execution_count": null,
   "id": "fafc0f1b",
   "metadata": {},
   "outputs": [],
   "source": [
    "x = [0,1,2,3,4,5,6,7,8,9]\n"
   ]
  }
 ],
 "metadata": {
  "kernelspec": {
   "display_name": "Python 3 (ipykernel)",
   "language": "python",
   "name": "python3"
  },
  "language_info": {
   "codemirror_mode": {
    "name": "ipython",
    "version": 3
   },
   "file_extension": ".py",
   "mimetype": "text/x-python",
   "name": "python",
   "nbconvert_exporter": "python",
   "pygments_lexer": "ipython3",
   "version": "3.9.12"
  }
 },
 "nbformat": 4,
 "nbformat_minor": 5
}

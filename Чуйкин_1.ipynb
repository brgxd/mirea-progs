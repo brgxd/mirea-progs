{
 "cells": [
  {
   "cell_type": "markdown",
   "id": "f9899c84",
   "metadata": {},
   "source": [
    "# Рабочая тетрадь 1\n",
    "## Задача 1.3\n"
   ]
  },
  {
   "cell_type": "code",
   "execution_count": 1,
   "id": "02fe7e54",
   "metadata": {},
   "outputs": [
    {
     "name": "stdout",
     "output_type": "stream",
     "text": [
      "True | <class 'bool'> \n",
      " {8, 1, 3, 7} | <class 'set'> \n",
      " {'apple', 2, 4, 5, 10} | <class 'set'> \n",
      " set() | <class 'set'> \n",
      " ('Антонова Антонина', 34, 'ж') | <class 'tuple'> \n",
      " type | <class 'str'> \n",
      " [1, 'title', 2, 'content'] | <class 'list'> \n",
      "\n"
     ]
    }
   ],
   "source": [
    "x = 5 >= 2\n",
    "a = {1, 3, 7, 8}\n",
    "b = {2, 4, 5, 10, 'apple'}\n",
    "c = a & b\n",
    "df = 'Антонова Антонина', 34, 'ж'\n",
    "z = 'type'\n",
    "d = [1, 'title', 2, 'content']\n",
    "print(x, '|', type(x), '\\n',\n",
    "      a, '|', type(a), '\\n',\n",
    "      b, '|', type(b), '\\n',\n",
    "      c, '|', type(c), '\\n',\n",
    "      df, '|', type(df), '\\n',\n",
    "      z, '|', type(z), '\\n',\n",
    "      d, '|', type(d), '\\n')"
   ]
  },
  {
   "cell_type": "markdown",
   "id": "ac24171b",
   "metadata": {},
   "source": [
    "## Задача 2.3"
   ]
  },
  {
   "cell_type": "code",
   "execution_count": 7,
   "id": "ba155e0c",
   "metadata": {},
   "outputs": [
    {
     "name": "stdout",
     "output_type": "stream",
     "text": [
      "4.9\n",
      "[-5; 5]\n"
     ]
    }
   ],
   "source": [
    "x = float(input())\n",
    "if x < -5:\n",
    "    print('(-inf; -5)')\n",
    "elif -5 <= x <= 5:\n",
    "    print('[-5; 5]')\n",
    "else:\n",
    "    print('(5; +inf)')"
   ]
  },
  {
   "cell_type": "markdown",
   "id": "82333188",
   "metadata": {},
   "source": [
    "## Задача 3.3.1"
   ]
  },
  {
   "cell_type": "code",
   "execution_count": 9,
   "id": "55bb5820",
   "metadata": {},
   "outputs": [
    {
     "name": "stdout",
     "output_type": "stream",
     "text": [
      "10 7 4 1\n"
     ]
    }
   ],
   "source": [
    "x = 1\n",
    "a = []\n",
    "while x <= 10:\n",
    "    a.append(x)\n",
    "    x += 3\n",
    "print(*a[::-1])"
   ]
  },
  {
   "cell_type": "markdown",
   "id": "2778425c",
   "metadata": {},
   "source": [
    "## Задача 3.3.2"
   ]
  },
  {
   "cell_type": "code",
   "execution_count": 12,
   "id": "9e15dc7b",
   "metadata": {},
   "outputs": [
    {
     "name": "stdout",
     "output_type": "stream",
     "text": [
      "ФИО\n",
      "Пол\n",
      "Возраст\n"
     ]
    }
   ],
   "source": [
    "features = ['ФИО', 'Пол', 'Возраст']\n",
    "print(*features, sep='\\n')"
   ]
  },
  {
   "cell_type": "markdown",
   "id": "326fd3b7",
   "metadata": {},
   "source": [
    "## Задача 3.3.3"
   ]
  },
  {
   "cell_type": "code",
   "execution_count": 13,
   "id": "84212712",
   "metadata": {},
   "outputs": [
    {
     "name": "stdout",
     "output_type": "stream",
     "text": [
      "2 3 4 5 6 7 8 9 10 11 12 13 14 15\n"
     ]
    }
   ],
   "source": [
    "a = list(range(2, 16))\n",
    "print(*a)"
   ]
  },
  {
   "cell_type": "markdown",
   "id": "c4a7ec51",
   "metadata": {},
   "source": [
    "## Задача 3.3.4"
   ]
  },
  {
   "cell_type": "code",
   "execution_count": 14,
   "id": "6b938048",
   "metadata": {},
   "outputs": [
    {
     "name": "stdout",
     "output_type": "stream",
     "text": [
      "105\n",
      "80\n",
      "55\n",
      "30\n",
      "5\n"
     ]
    }
   ],
   "source": [
    "for i in range(105, 4, -25):\n",
    "    print(i)"
   ]
  },
  {
   "cell_type": "markdown",
   "id": "4ec6199c",
   "metadata": {},
   "source": [
    "## Задача 3.3.5"
   ]
  },
  {
   "cell_type": "code",
   "execution_count": 24,
   "id": "7c2e9d9d",
   "metadata": {},
   "outputs": [
    {
     "name": "stdout",
     "output_type": "stream",
     "text": [
      "[8, 1, 6, 3, 4, 5, 2, 7, 0, 9]\n"
     ]
    }
   ],
   "source": [
    "def rev(x):\n",
    "    x[::2] = x[-2::-2]\n",
    "    return x\n",
    "\n",
    "\n",
    "x = [0, 1, 2, 3, 4, 5, 6, 7, 8, 9]\n",
    "x = rev(x)\n",
    "print(x)"
   ]
  },
  {
   "cell_type": "markdown",
   "id": "8a348578",
   "metadata": {},
   "source": [
    "## Задача 4.3.1"
   ]
  },
  {
   "cell_type": "code",
   "execution_count": 114,
   "id": "ada64e8f",
   "metadata": {},
   "outputs": [
    {
     "data": {
      "text/plain": [
       "<matplotlib.collections.PathCollection at 0x1be77b2fa60>"
      ]
     },
     "execution_count": 114,
     "metadata": {},
     "output_type": "execute_result"
    },
    {
     "data": {
      "image/png": "[encoded data removed]",
      "text/plain": [
       "<Figure size 432x288 with 1 Axes>"
      ]
     },
     "metadata": {
      "needs_background": "light"
     },
     "output_type": "display_data"
    }
   ],
   "source": [
    "import numpy as np\n",
    "import matplotlib.pyplot as plt\n",
    "\n",
    "a = np.random.rand(10)\n",
    "avg = np.average(a)\n",
    "median = np.median(a)\n",
    "\n",
    "x = np.arange(0, 1, 0.1)\n",
    "plt.grid()\n",
    "plt.scatter(x, a)"
   ]
  },
  {
   "cell_type": "markdown",
   "id": "93def37e",
   "metadata": {},
   "source": [
    "## Задача 4.3.3"
   ]
  },
  {
   "cell_type": "code",
   "execution_count": 93,
   "id": "68bce2a2",
   "metadata": {},
   "outputs": [
    {
     "name": "stdout",
     "output_type": "stream",
     "text": [
      "6.748183214657733\n"
     ]
    },
    {
     "data": {
      "image/png": "[encoded data removed]",
      "text/plain": [
       "<Figure size 432x288 with 1 Axes>"
      ]
     },
     "metadata": {
      "needs_background": "light"
     },
     "output_type": "display_data"
    }
   ],
   "source": [
    "from math import sqrt, exp, cos, sin, log\n",
    "import numpy as np\n",
    "import random\n",
    "import matplotlib.pyplot as plt\n",
    "from scipy.integrate import simps\n",
    "from numpy import trapz\n",
    "\n",
    "def fun(x):\n",
    "    r = abs(cos(x * exp(cos(x) + log(x + 1))))\n",
    "    return r\n",
    "\n",
    "x = list(i for i in range(0, 11))\n",
    "y = list(fun(i) for i in x)\n",
    "\n",
    "\n",
    "plt.grid()\n",
    "plt.plot(x, y, c='r')\n",
    "plt.fill_between(x, y)\n",
    "\n",
    "area = trapz(y)\n",
    "print(area)"
   ]
  },
  {
   "cell_type": "markdown",
   "id": "51daa9ec",
   "metadata": {},
   "source": [
    "## Задача 4.3.4"
   ]
  },
  {
   "cell_type": "code",
   "execution_count": 56,
   "id": "c03cef01",
   "metadata": {},
   "outputs": [
    {
     "data": {
      "text/plain": [
       "<matplotlib.legend.Legend at 0x1c2c17f9bb0>"
      ]
     },
     "execution_count": 56,
     "metadata": {},
     "output_type": "execute_result"
    },
    {
     "data": {
      "image/png": "[encoded data removed]",
      "text/plain": [
       "<Figure size 1080x720 with 1 Axes>"
      ]
     },
     "metadata": {
      "needs_background": "light"
     },
     "output_type": "display_data"
    }
   ],
   "source": [
    "from math import sqrt, exp, cos, sin, log\n",
    "import numpy as np\n",
    "import random\n",
    "import matplotlib.pyplot as plt\n",
    "\n",
    "# https://finance.yahoo.com/chart/AAPL#eyJpbnRlcnZhbCI6Im1vbnRoIiwicGVyaW9kaWNpdHkiOjEsImNhbmRsZVdpZHRoIjoxNS4xODM2NzM0NjkzODc3NTYsImZsaXBwZWQiOmZhbHNlLCJ2b2x1bWVVbmRlcmxheSI6dHJ1ZSwiYWRqIjp0cnVlLCJjcm9zc2hhaXIiOnRydWUsImNoYXJ0VHlwZSI6ImxpbmUiLCJleHRlbmRlZCI6ZmFsc2UsIm1hcmtldFNlc3Npb25zIjp7fSwiYWdncmVnYXRpb25UeXBlIjoib2hsYyIsImNoYXJ0U2NhbGUiOiJsaW5lYXIiLCJzdHVkaWVzIjp7IuKAjHZvbCB1bmRy4oCMIjp7InR5cGUiOiJ2b2wgdW5kciIsImlucHV0cyI6eyJpZCI6IuKAjHZvbCB1bmRy4oCMIiwiZGlzcGxheSI6IuKAjHZvbCB1bmRy4oCMIn0sIm91dHB1dHMiOnsiVXAgVm9sdW1lIjoiIzAwYjA2MSIsIkRvd24gVm9sdW1lIjoiI2ZmMzMzYSJ9LCJwYW5lbCI6ImNoYXJ0IiwicGFyYW1ldGVycyI6eyJ3aWR0aEZhY3RvciI6MC40NSwiY2hhcnROYW1lIjoiY2hhcnQifX19LCJwYW5lbHMiOnsiY2hhcnQiOnsicGVyY2VudCI6MSwiZGlzcGxheSI6IkFBUEwiLCJjaGFydE5hbWUiOiJjaGFydCIsImluZGV4IjowLCJ5QXhpcyI6eyJuYW1lIjoiY2hhcnQiLCJwb3NpdGlvbiI6bnVsbH0sInlheGlzTEhTIjpbXSwieWF4aXNSSFMiOlsiY2hhcnQiLCLigIx2b2wgdW5kcuKAjCJdfX0sInNldFNwYW4iOnt9LCJsaW5lV2lkdGgiOjIsInN0cmlwZWRCYWNrZ3JvdW5kIjp0cnVlLCJldmVudHMiOnRydWUsImNvbG9yIjoiIzAwODFmMiIsInN0cmlwZWRCYWNrZ3JvdWQiOnRydWUsImV2ZW50TWFwIjp7ImNvcnBvcmF0ZSI6eyJkaXZzIjp0cnVlLCJzcGxpdHMiOnRydWV9LCJzaWdEZXYiOnt9fSwicmFuZ2UiOnt9LCJjdXN0b21SYW5nZSI6bnVsbCwic3ltYm9scyI6W3sic3ltYm9sIjoiQUFQTCIsInN5bWJvbE9iamVjdCI6eyJzeW1ib2wiOiJBQVBMIiwicXVvdGVUeXBlIjoiRVFVSVRZIiwiZXhjaGFuZ2VUaW1lWm9uZSI6IkFtZXJpY2EvTmV3X1lvcmsifSwicGVyaW9kaWNpdHkiOjEsImludGVydmFsIjoibW9udGgiLCJzZXRTcGFuIjp7fX1dfQ--\n",
    "AAPL = [122.15, 131.46, 124.61, 136.96, 145.86, 151.83, 141.50, 149.80, 165.30, 177.57, 174.78, 168.88]\n",
    "GOOG = [2068.63, 2410.12, 2411.56, 2506.32, 2704.42, 2909.24, 2665.31, 2965.41, 2849.04, 2893.59, 2713.97, 2706.00]\n",
    "MSFT = [235.77, 252.18, 249.68, 270.9, 284.91, 301.88, 281.92, 331.62, 330.59, 336.32, 310.98, 295.00]\n",
    "x = range(1, 13)\n",
    "\n",
    "plt.figure(figsize=(15, 10))\n",
    "plt.grid()\n",
    "plt.xticks(np.arange(0, 13, 1))\n",
    "plt.yticks(np.arange(0, 3500, 125))\n",
    "plt.xlabel(\"Month\")\n",
    "plt.ylabel(\"Close price\")\n",
    "\n",
    "plt.plot(x, AAPL, c='C2',  label='AAPL')\n",
    "plt.plot(x, GOOG, c='C0', label='GOOG')\n",
    "plt.plot(x, MSFT, c='C1', label='MSFT')\n",
    "\n",
    "plt.fill_between(x, GOOG, facecolor='C0', alpha=0.5)\n",
    "plt.fill_between(x, MSFT, facecolor='C1', alpha=0.5)\n",
    "plt.fill_between(x, AAPL, facecolor='C2', alpha=0.5)\n",
    "plt.legend(loc=2)"
   ]
  },
  {
   "cell_type": "markdown",
   "id": "c44828cb",
   "metadata": {},
   "source": [
    "## Задача 4.3.5"
   ]
  },
  {
   "cell_type": "code",
   "execution_count": 5,
   "id": "7ad89fb2",
   "metadata": {},
   "outputs": [
    {
     "name": "stdout",
     "output_type": "stream",
     "text": [
      "Введите x: 55\n",
      "Введите y:0\n",
      "Введите действие (1 - сложение, 2 - вычитание, 3 - умножение, 4 - деление, 5 - e^(x+y), 6 - sin(x+y), 7 - cos(x+y), 8 - x**y):4\n",
      "Вывод: \n",
      "На ноль делить нельзя!\n"
     ]
    }
   ],
   "source": [
    "#e^(x+y), sin(x + y), cos(x + y) , x^y\n",
    "from math import *\n",
    "\n",
    "x = int(input('Введите x: '))\n",
    "y = int(input('Введите y:'))\n",
    "action = int(input('Введите действие (1 - сложение, 2 - вычитание, 3 - умножение, 4 - деление, 5 - e^(x+y), 6 - sin(x+y), 7 - cos(x+y), 8 - x**y):'))\n",
    "print(\"Вывод: \")\n",
    "if action == 1:\n",
    "    print(x+y)\n",
    "elif action == 2:\n",
    "    print(x-y)\n",
    "elif action == 3:\n",
    "    print(x*y)\n",
    "elif action == 4:\n",
    "    if (y == 0):\n",
    "        print('На ноль делить нельзя!')\n",
    "    else:\n",
    "        print(x/y)\n",
    "elif action == 5:\n",
    "    print(e**(x+y))\n",
    "elif action == 6:\n",
    "    print(sin(x+y))\n",
    "elif action == 7:\n",
    "    print(cos(x+y))\n",
    "elif action == 8:\n",
    "    print(x**y)"
   ]
  },
  {
   "cell_type": "markdown",
   "id": "62e93e96",
   "metadata": {},
   "source": [
    "## 4.3.2"
   ]
  },
  {
   "cell_type": "code",
   "execution_count": 5,
   "id": "91881532",
   "metadata": {},
   "outputs": [
    {
     "data": {
      "image/png": "[encoded data removed]",
      "text/plain": [
       "<Figure size 432x288 with 1 Axes>"
      ]
     },
     "metadata": {
      "needs_background": "light"
     },
     "output_type": "display_data"
    },
    {
     "data": {
      "image/png": "[encoded data removed]",
      "text/plain": [
       "<Figure size 720x432 with 1 Axes>"
      ]
     },
     "metadata": {
      "needs_background": "light"
     },
     "output_type": "display_data"
    }
   ],
   "source": [
    "from math import sqrt, e, cos, sin, log\n",
    "import matplotlib.pyplot as plt\n",
    "\n",
    "def func(x):\n",
    "  return sqrt((1 + e**sqrt(x) + cos(x)**2))/abs(1 - sin(x)**3) + log(abs(2*x))\n",
    "\n",
    "data = [func(x) for x in range(1, 11)]\n",
    "datah = data[0:5]\n",
    "\n",
    "plt.plot([1, 2, 3, 4, 5, 6, 7, 8, 9, 10], data)\n",
    "plt.title('graph')\n",
    "plt.xlabel('x')\n",
    "plt.ylabel('res')\n",
    "plt.show()\n",
    "\n",
    "fig, ax = plt.subplots(figsize=(10, 6))\n",
    "ax.scatter([1, 2, 3, 4, 5], y = datah)\n",
    "plt.show()"
   ]
  },
  {
   "cell_type": "code",
   "execution_count": null,
   "id": "2c758203",
   "metadata": {},
   "outputs": [],
   "source": []
  }
 ],
 "metadata": {
  "kernelspec": {
   "display_name": "Python 3 (ipykernel)",
   "language": "python",
   "name": "python3"
  },
  "language_info": {
   "codemirror_mode": {
    "name": "ipython",
    "version": 3
   },
   "file_extension": ".py",
   "mimetype": "text/x-python",
   "name": "python",
   "nbconvert_exporter": "python",
   "pygments_lexer": "ipython3",
   "version": "3.9.12"
  }
 },
 "nbformat": 4,
 "nbformat_minor": 5
}
